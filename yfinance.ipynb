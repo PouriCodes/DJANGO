{
  "nbformat": 4,
  "nbformat_minor": 0,
  "metadata": {
    "colab": {
      "provenance": [],
      "authorship_tag": "ABX9TyN9rtZAp+5Bj7aDTbcRHw8E",
      "include_colab_link": true
    },
    "kernelspec": {
      "name": "python3",
      "display_name": "Python 3"
    },
    "language_info": {
      "name": "python"
    }
  },
  "cells": [
    {
      "cell_type": "markdown",
      "metadata": {
        "id": "view-in-github",
        "colab_type": "text"
      },
      "source": [
        "<a href=\"https://colab.research.google.com/github/PouriCodes/DJANGO/blob/main/yfinance.ipynb\" target=\"_parent\"><img src=\"https://colab.research.google.com/assets/colab-badge.svg\" alt=\"Open In Colab\"/></a>"
      ]
    },
    {
      "cell_type": "code",
      "execution_count": 3,
      "metadata": {
        "id": "RlRdS75Q0SnE"
      },
      "outputs": [],
      "source": [
        "import pandas as pd\n",
        "import yfinance as yf\n",
        "ticker_symbol = \"EURUSD=X\"\n",
        "ticker = yf.Ticker(ticker_symbol)\n",
        "historeical_data = ticker.history(period=\"720d\", interval=\"1h\")\n",
        "historeical_data = historeical_data[[\"Open\",\"High\",\"Low\",\"Close\",\"Volume\"]].reset_index(drop=False)\n",
        "df = historeical_data\n",
        "df = pd.DataFrame(df)\n",
        "# Save the DataFrame to a CSV file\n",
        "df.to_csv('output_data.csv', index=False)"
      ]
    }
  ]
}